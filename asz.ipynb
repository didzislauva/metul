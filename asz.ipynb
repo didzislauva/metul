{
 "cells": [
  {
   "cell_type": "code",
   "execution_count": 23,
   "metadata": {},
   "outputs": [],
   "source": [
    "def ASZ(RS, ES, WZ, SM, RCH, CAP, DEF, WMAX, KU, KL, ZCAP):\n",
    "        #EA,RS,ES,WZB,SMSB,SMSE,RCH,CAP,DEF,WMAX,KU,KL,ZCAP,Q1,ESUM\n",
    "        Q1 = 0\n",
    "        CAP = 0\n",
    "        RCH = 0\n",
    "        \n",
    "        if  ( ES > 0 ) : #ja no sniega bijusi iztvaikošana, no augsnes tipa neiztvaiko. Okk...\n",
    "            #\n",
    "            EA = 0\n",
    "            \n",
    "        else:\n",
    "            if  ( SM >= WMAX ) :    #ja soil moisture ir vairāk nekā augsnē varētu būt, tad aprēķina iztvaikošanu pēc augšējās robežas\n",
    "                                    #ja starpība negatīva, tas nozīmē, ka augsnē mitrums nav tik daudz kā tur varētu būt. \n",
    "                EA = KU * DEF\n",
    "            else:\n",
    "                if  ( SM == 0 and WZ >= ZCAP ) : #ja augsnes mitrums ir 0 un ūdenslīmenis ir lielāks par \n",
    "                    EA = KL * DEF\n",
    "\n",
    "                \n",
    "                if  ( WZ > ZCAP ) : # ja ūdenslīmenis ir virs \n",
    "                    EA = DEF *  ( KU -  ( KU - KL )  *  ( 1 - SM / WMAX ) )\n",
    "                else:\n",
    "                    EA = DEF *  ( KU - WZ *  ( KU - KL )  *  ( 1 - SM / WMAX )  / ZCAP )\n",
    "        \n",
    "\n",
    "\n",
    "        if  ( SM < 0 ) : #ja sarēķinātais mitrums augsnē ir negatīvs, tad tas nozīmē, ka tas ir aizgājis prom no augsnes, CAP, iztvaikojis?\n",
    "            CAP = - SM\n",
    "        SM = SM + RS - EA + CAP\n",
    "        DSMSEWMAX = SM - WMAX\n",
    "        \n",
    "        if  ( SM > WMAX ) :\n",
    "            RCH = SM - WMAX #tā ūdens daļa, kas ir vairāk nekā ietilpst augsnē, aiziet uz RCH. \n",
    "            Q1 = 0.02 * RCH\n",
    "            RCH = 0.98 * RCH\n",
    "            SM = SM + RS - EA - RCH - Q1 + CAP\n",
    "\n",
    "             \n",
    "        D=dict(EA=EA,RS=RS,ES=ES,WZ=WZ,SM=SM,RCH=RCH,CAP=CAP,DEF=DEF,WMAX=WMAX,KU=KU,KL=KL,ZCAP=ZCAP,Q1=Q1)\n",
    "        return D"
   ]
  },
  {
   "cell_type": "code",
   "execution_count": 24,
   "metadata": {},
   "outputs": [
    {
     "data": {
      "text/plain": [
       "{'EA': 2,\n",
       " 'RS': 50,\n",
       " 'ES': 0,\n",
       " 'WZ': 0,\n",
       " 'SM': 128.0,\n",
       " 'RCH': 66.64,\n",
       " 'CAP': 0,\n",
       " 'DEF': 1,\n",
       " 'WMAX': 80,\n",
       " 'KU': 2,\n",
       " 'KL': 1,\n",
       " 'ZCAP': 320,\n",
       " 'Q1': 1.36}"
      ]
     },
     "execution_count": 24,
     "metadata": {},
     "output_type": "execute_result"
    }
   ],
   "source": [
    "RS=50\n",
    "ES=0\n",
    "WZ=0\n",
    "SM=100\n",
    "RCH=0\n",
    "CAP=0\n",
    "DEF=1\n",
    "WMAX=80\n",
    "ZCAP=320\n",
    "KU=2\n",
    "KL=1\n",
    "\n",
    "\n",
    "ASZ(RS, ES, WZ, SM, RCH, CAP, DEF, WMAX, KU, KL, ZCAP)"
   ]
  },
  {
   "cell_type": "code",
   "execution_count": null,
   "metadata": {},
   "outputs": [],
   "source": []
  },
  {
   "cell_type": "code",
   "execution_count": null,
   "metadata": {},
   "outputs": [],
   "source": []
  }
 ],
 "metadata": {
  "kernelspec": {
   "display_name": "Python 3",
   "language": "python",
   "name": "python3"
  },
  "language_info": {
   "codemirror_mode": {
    "name": "ipython",
    "version": 3
   },
   "file_extension": ".py",
   "mimetype": "text/x-python",
   "name": "python",
   "nbconvert_exporter": "python",
   "pygments_lexer": "ipython3",
   "version": "3.8.3"
  }
 },
 "nbformat": 4,
 "nbformat_minor": 4
}
