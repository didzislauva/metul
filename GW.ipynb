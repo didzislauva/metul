{
 "cells": [
  {
   "cell_type": "code",
   "execution_count": 61,
   "metadata": {},
   "outputs": [],
   "source": [
    "def GCWZ_orig(PZ, GWB, GWE, RCH, CAP, Q1, Q2, Q3, WZB, WZE, ALFA, A2, A3, DZ, WZEP, Q1SUM, Q2SUM, Q3SUM, QSUM):\n",
    "        #PZ,GWB,GWE,RCH,CAP,Q1,Q2,Q3,WZB,WZE,ALFA,A2,A3, DZ,WZEP,Q1SUM,Q2SUM,Q3SUM,QSUM\n",
    "        \n",
    "        WZE = WZB\n",
    "       \n",
    "        for i in range(0, 15):\n",
    "            if  ( WZB > 0 ) :\n",
    "                GWB = 10 * ALFA * WZB\n",
    "            DWZEDZ = WZE - DZ\n",
    "            if  ( DWZEDZ > 0 ) :\n",
    "                Q2 = 0\n",
    "            else:\n",
    "                Q2 = A2 *  (( DZ - WZE )  ** 2)\n",
    "                \n",
    "            Q3 = A3 *  ( PZ - WZE )\n",
    "            print(Q3)\n",
    "            GWE = GWB - RCH + Q2 + Q3 + CAP\n",
    "            WZEP = GWE /  ( 10 * ALFA )\n",
    "            WZE = ( WZE + WZEP )  / 2\n",
    "        \n",
    "        print(WZE,WZB)\n",
    "            \n",
    "        WZE1 = ( WZE + WZB )  / 2\n",
    "        Q2 = A2 *  (( DZ - WZE1 )  ** 2)\n",
    "        ST = DZ - WZE1\n",
    "        if  ( ST < 0 ) :\n",
    "            Q2 = 0\n",
    "        Q2SUM = Q2SUM + Q2\n",
    "        Q3 = A3 *  ( PZ - WZE1 )\n",
    "        print(Q3)\n",
    "        Q3SUM = Q3SUM + Q3\n",
    "        GWE = GWB - RCH + Q2 + Q3 + CAP\n",
    "\n",
    "        \n",
    "        if  ( GWE < 0 ) :\n",
    "            Q1 = - GWE + Q1\n",
    "            GWE = GWB - RCH + CAP + Q1 + Q2 + Q3\n",
    "        Q1SUM = Q1SUM + Q1\n",
    "        QSUM = Q1SUM + Q2SUM + Q3SUM\n",
    "        \n",
    "        \n",
    "        #PZ, GWB, GWE, RCH, CAP, Q1, Q2, Q3, WZB, WZE, ALFA, A2, A3, DZ, WZEP, Q1SUM, Q2SUM, Q3SUM, QSUM\n",
    "        D = dict(PZ=PZ, GWB=GWB, GWE=GWE, RCH=RCH, CAP=CAP, Q1=Q1, Q2=Q2, Q3=Q3, WZB=WZB, WZE=WZE, ALFA=ALFA, A2=A2, A3=A3, DZ=DZ, WZEP=WZEP, Q1SUM=Q1SUM, Q2SUM=Q2SUM, Q3SUM=Q3SUM, QSUM=QSUM)\n",
    "        return D\n",
    "       "
   ]
  },
  {
   "cell_type": "code",
   "execution_count": 37,
   "metadata": {},
   "outputs": [
    {
     "name": "stdout",
     "output_type": "stream",
     "text": [
      "3.5999999999999996\n",
      "3.43665\n",
      "3.36940421596875\n",
      "3.3415275217710367\n",
      "3.329938110830438\n",
      "3.3251142308491453\n",
      "3.3231053894855602\n",
      "3.3222686623513735\n",
      "3.3219201171167803\n",
      "3.321774922708157\n",
      "3.321714437793903\n",
      "3.3216892409046728\n",
      "3.321678744322724\n",
      "3.3216743716261736\n",
      "3.32167255003475\n",
      "9.277606960318913 0\n",
      "3.460835895595216\n"
     ]
    },
    {
     "data": {
      "text/plain": [
       "{'PZ': 120,\n",
       " 'GWB': 0,\n",
       " 'GWE': 402.7070057702733,\n",
       " 'RCH': 0,\n",
       " 'CAP': 0,\n",
       " 'Q1': 0,\n",
       " 'Q2': 399.2461698746781,\n",
       " 'Q3': 3.460835895595216,\n",
       " 'WZB': 0,\n",
       " 'WZE': 9.277606960318913,\n",
       " 'ALFA': 4,\n",
       " 'A2': 0.03,\n",
       " 'A3': 0.03,\n",
       " 'DZ': 120,\n",
       " 'WZEP': 9.277632255129502,\n",
       " 'Q1SUM': 0,\n",
       " 'Q2SUM': 399.2461698746781,\n",
       " 'Q3SUM': 3.460835895595216,\n",
       " 'QSUM': 402.7070057702733}"
      ]
     },
     "execution_count": 37,
     "metadata": {},
     "output_type": "execute_result"
    }
   ],
   "source": [
    "PZ=500\n",
    "GWB=0 #tukšo poru apjoms. Potenciāli aizpildāms ar ūdeni.\n",
    "GWE=0\n",
    "RCH=0\n",
    "CAP=0\n",
    "Q1=0\n",
    "Q2=0\n",
    "Q3=0\n",
    "WZB=0 \n",
    "WZE=0\n",
    "ALFA=4 \n",
    "A2=0.03\n",
    "A3=0.03\n",
    "PZ=120\n",
    "DZ=120\n",
    "\n",
    "WZEP=0\n",
    "\n",
    "Q1SUM=0 \n",
    "Q2SUM=0\n",
    "Q3SUM=0\n",
    "QSUM=0\n",
    "\n",
    "GCWZ_orig(PZ, GWB, GWE, RCH, CAP, Q1, Q2, Q3, WZB, WZE, ALFA, A2, A3, DZ, WZEP, Q1SUM, Q2SUM, Q3SUM, QSUM)"
   ]
  },
  {
   "cell_type": "code",
   "execution_count": 168,
   "metadata": {},
   "outputs": [
    {
     "name": "stdout",
     "output_type": "stream",
     "text": [
      "180.0 190.0\n",
      "200.0 195.0\n",
      "190.0 192.5\n",
      "195.0 193.75\n",
      "192.5 193.125\n",
      "193.75 193.4375\n",
      "193.125 193.28125\n",
      "193.4375 193.359375\n",
      "193.28125 193.3203125\n",
      "193.359375 193.33984375\n",
      "193.3203125 193.330078125\n",
      "193.33984375 193.3349609375\n",
      "193.330078125 193.33251953125\n",
      "193.3349609375 193.333740234375\n",
      "193.33251953125 193.3331298828125\n"
     ]
    },
    {
     "data": {
      "text/plain": [
       "193.33251953125"
      ]
     },
     "execution_count": 168,
     "metadata": {},
     "output_type": "execute_result"
    }
   ],
   "source": [
    "WZE=WZB=WZ=200\n",
    "ALFA=0.05 #raksturo porainību. nevar būt lielāks par 0.1\n",
    "GWB=0\n",
    "A3=1\n",
    "A2=0\n",
    "RCH=10\n",
    "CAP=0\n",
    "DZ=100\n",
    "PZ=200\n",
    "\n",
    "\n",
    "WZ=[]\n",
    "\n",
    "#kur ir ūdenslīmenis, tas nosaka dažādus sākuma nosacījumus.\n",
    "\n",
    "for i in range(0, 15):\n",
    "            if  ( WZB > 0 ) : #ūdenslīmenis zem zemes virsmas\n",
    "                GWB = 10 * ALFA * WZB #aprēķina tukšo poru, kuras potenciāli var aizpildīt ar ūdeni, apjomu.\n",
    "                #ja ūdens līmenis ir 0, tad viss ir aizpildīts un nav tukšu poru, kur iepildīt ūdeni, tāpēc tad GWB=0\n",
    "                \n",
    "             \n",
    "            if  ( WZE > DZ) : #ūdenslīmenis zem drenas. (drena 120, ūdenslīmens 100 vai ūdenslīmenis 150)\n",
    "                Q2 = 0 #ūdenslīmenis zem drenas, \n",
    "            else:               #ūdenslīmenis virs drenas.\n",
    "                Q2 = A2 *  ( DZ - WZE )  ** 2\n",
    "                \n",
    "            Q3 = A3 *  ( PZ - WZE )\n",
    "            GWE = GWB - RCH + Q2 + Q3 + CAP\n",
    "            WZEP = GWE /  ( 10 * ALFA )\n",
    "            WZE = ( WZE + WZEP )  / 2\n",
    "            WZ.append(WZE)\n",
    "            #print(WZE, GWE, Q2, Q3)\n",
    "            print(WZEP, WZE)\n",
    "            \n",
    "WZEP"
   ]
  },
  {
   "cell_type": "code",
   "execution_count": 169,
   "metadata": {},
   "outputs": [
    {
     "data": {
      "text/plain": [
       "193.3331298828125"
      ]
     },
     "execution_count": 169,
     "metadata": {},
     "output_type": "execute_result"
    }
   ],
   "source": [
    "def WZLvlCalc(WZ, GWB, ALFA, DZ, A2, PZ, A3, CAP):\n",
    "    WZE = WZB = WZ\n",
    "    \n",
    "    for i in range(0, 15):\n",
    "        if  ( WZB > 0 ) :\n",
    "            GWB = 10 * ALFA * WZB  #Alfa nevar būt lielāks par 0.1; Alfa=0,1 -> GWB[mm]=WZB[mm]. ūdens milimetrs aizņem \n",
    "                                    #poru milimetru. Ja Alfa ir 1, tad 10 ūdens milimetri aizņem vienu poru milimetru. \n",
    "                                    #jāpadomā. varbūt ir otrādāk. WZB ir gaisa staba (attālums līdz gw) augstums. \n",
    "                                #piemēram, ja tas ir neaizpildīts 100mm, tad tur var saliet 100mm ūdeni pie Alfa=0.1\n",
    "                        #ja tas ir aizpildīts, tur samazinās gaisam pieejamie mm. tātad, ja tur ir 90%materiāla un 10% poras, tad\n",
    "                        #augstums wzb ir joprojām 100mm, bet tajā varēs ieliet gwb 10mm ūdeni. tātad, ja Alfa ir 0.01, tad parādīsies \n",
    "                        #šī atbilstība.\n",
    "        \n",
    "        \n",
    "        if  ( WZE > DZ) :\n",
    "            Q2 = 0\n",
    "        else:\n",
    "            Q2 = A2 *  (( DZ - WZE )  ** 2)\n",
    "\n",
    "        Q3 = A3 *  ( PZ - WZE )\n",
    "        #print(Q3)\n",
    "        GWE = GWB - RCH + Q2 + Q3 + CAP\n",
    "        WZEP = GWE /  ( 10 * ALFA )\n",
    "        WZE = ( WZE + WZEP )  / 2\n",
    "        #print(WZEP, WZE)\n",
    "    \n",
    "    return WZE\n",
    "\n",
    "WZLvlCalc(WZB, GWB, ALFA, DZ, A2, PZ, A3, CAP)\n"
   ]
  },
  {
   "cell_type": "code",
   "execution_count": 163,
   "metadata": {},
   "outputs": [
    {
     "data": {
      "text/plain": [
       "[<matplotlib.lines.Line2D at 0x1f6cd66de20>]"
      ]
     },
     "execution_count": 163,
     "metadata": {},
     "output_type": "execute_result"
    },
    {
     "data": {
      "image/png": "[encoded data removed]",
      "text/plain": [
       "<Figure size 432x288 with 1 Axes>"
      ]
     },
     "metadata": {
      "needs_background": "light"
     },
     "output_type": "display_data"
    }
   ],
   "source": [
    "from matplotlib import pyplot as plt\n",
    "plt.plot(WZ)"
   ]
  },
  {
   "cell_type": "code",
   "execution_count": 151,
   "metadata": {},
   "outputs": [
    {
     "name": "stdout",
     "output_type": "stream",
     "text": [
      "0 0 0.45454259850058065\n"
     ]
    },
    {
     "data": {
      "text/plain": [
       "{'PZ': 200,\n",
       " 'GWB': 2000,\n",
       " 'GWE': 1990.4545425985007,\n",
       " 'RCH': 10,\n",
       " 'CAP': 0,\n",
       " 'Q1': 0,\n",
       " 'Q2': 0,\n",
       " 'Q3': 0.45454259850058065,\n",
       " 'WZB': 200,\n",
       " 'WZE': 199.09091480299884,\n",
       " 'ALFA': 1,\n",
       " 'A2': 0,\n",
       " 'A3': 1,\n",
       " 'DZ': 100,\n",
       " 'WZEP': 199.09090782155582}"
      ]
     },
     "execution_count": 151,
     "metadata": {},
     "output_type": "execute_result"
    }
   ],
   "source": [
    "def GCWZ1(PZ, GWB, GWE, RCH, CAP, Q1, Q2, Q3, WZB, WZE, ALFA, A2, A3, DZ, WZEP):\n",
    "        #PZ,GWB,GWE,RCH,CAP,Q1,Q2,Q3,WZB,WZE,ALFA,A2,A3, DZ,WZEP,Q1SUM,Q2SUM,Q3SUM,QSUM\n",
    "        \n",
    "        WZE=WZLvlCalc(WZB, GWB, ALFA, DZ, A2, PZ, A3, CAP)\n",
    "        \n",
    "\n",
    "            \n",
    "        WZE1 = ( WZE + WZB )  / 2\n",
    "        \n",
    "        \n",
    "        if  ( WZE1 > DZ ) : #ja vidējais ŪL ir dziļāk nekā drena, uz q2 nekas neaiziet\n",
    "            Q2 = 0\n",
    "        else:\n",
    "            Q2 = A2 *  ( DZ - WZE1 )  ** 2\n",
    "       \n",
    "        Q3 = A3 *  ( PZ - WZE1 )\n",
    "        GWE = GWB - RCH + Q2 + Q3 + CAP\n",
    "\n",
    "        \n",
    "        if  ( GWE < 0 ) :\n",
    "            Q1 = - GWE + Q1\n",
    "            GWE = GWB - RCH + CAP + Q1 + Q2 + Q3\n",
    "    \n",
    "        #PZ, GWB, GWE, RCH, CAP, Q1, Q2, Q3, WZB, WZE, ALFA, A2, A3, DZ, WZEP, Q1SUM, Q2SUM, Q3SUM, QSUM\n",
    "        \n",
    "        print(Q3,)\n",
    "        \n",
    "        D = dict(PZ=PZ, GWB=GWB, GWE=GWE, RCH=RCH, CAP=CAP, Q1=Q1, Q2=Q2, Q3=Q3, WZB=WZB, WZE=WZE, ALFA=ALFA, A2=A2, A3=A3, DZ=DZ, WZEP=WZEP)\n",
    "        return D\n",
    "GCWZ1(PZ, GWB, GWE, RCH, CAP, Q1, Q2, Q3, WZB, WZE, ALFA, A2, A3, DZ, WZEP)    "
   ]
  },
  {
   "cell_type": "code",
   "execution_count": 144,
   "metadata": {},
   "outputs": [
    {
     "name": "stdout",
     "output_type": "stream",
     "text": [
      "199.0 199.5\n",
      "199.05 199.275\n",
      "199.0725 199.17374999999998\n",
      "199.082625 199.1281875\n",
      "199.08718125000001 199.10768437500002\n",
      "199.0892315625 199.09845796875\n",
      "199.090154203125 199.0943060859375\n",
      "199.09056939140626 199.0924377386719\n",
      "199.0907562261328 199.09159698240234\n",
      "199.09084030175978 199.09121864208106\n",
      "199.0908781357919 199.09104838893649\n",
      "199.09089516110635 199.09097177502142\n",
      "199.09090282249787 199.09093729875963\n",
      "199.09090627012404 199.09092178444183\n",
      "199.09090782155582 199.09091480299884\n"
     ]
    }
   ],
   "source": [
    "D=GCWZ1(PZ, GWB, GWE, RCH, CAP, Q1, Q2, Q3, WZB, WZE, ALFA, A2, A3, DZ, WZEP)    "
   ]
  },
  {
   "cell_type": "code",
   "execution_count": 145,
   "metadata": {},
   "outputs": [
    {
     "data": {
      "text/plain": [
       "9.999999999999915"
      ]
     },
     "execution_count": 145,
     "metadata": {},
     "output_type": "execute_result"
    }
   ],
   "source": [
    "D[\"PZ\"]*10-D[\"GWE\"]+D[\"Q3\"]"
   ]
  },
  {
   "cell_type": "code",
   "execution_count": 152,
   "metadata": {},
   "outputs": [],
   "source": [
    "PZ=500\n",
    "GWB=0 #tukšo poru apjoms. Potenciāli aizpildāms ar ūdeni.\n",
    "GWE=0\n",
    "RCH=0\n",
    "CAP=0\n",
    "Q1=0\n",
    "Q2=0\n",
    "Q3=0\n",
    "WZB=0 \n",
    "WZE=0\n",
    "ALFA=0.01\n",
    "A2=0.03\n",
    "A3=0.03\n",
    "PZ=120\n",
    "DZ=120\n",
    "\n",
    "WZEP=0\n",
    "\n",
    "Q1SUM=0 \n",
    "Q2SUM=0\n",
    "Q3SUM=0\n",
    "QSUM=0"
   ]
  },
  {
   "cell_type": "code",
   "execution_count": null,
   "metadata": {},
   "outputs": [],
   "source": []
  }
 ],
 "metadata": {
  "kernelspec": {
   "display_name": "Python 3",
   "language": "python",
   "name": "python3"
  },
  "language_info": {
   "codemirror_mode": {
    "name": "ipython",
    "version": 3
   },
   "file_extension": ".py",
   "mimetype": "text/x-python",
   "name": "python",
   "nbconvert_exporter": "python",
   "pygments_lexer": "ipython3",
   "version": "3.8.3"
  }
 },
 "nbformat": 4,
 "nbformat_minor": 4
}
